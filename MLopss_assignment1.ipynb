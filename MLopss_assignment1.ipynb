{
  "nbformat": 4,
  "nbformat_minor": 0,
  "metadata": {
    "colab": {
      "provenance": []
    },
    "kernelspec": {
      "name": "python3",
      "display_name": "Python 3"
    },
    "language_info": {
      "name": "python"
    }
  },
  "cells": [
    {
      "cell_type": "markdown",
      "source": [
        "NAME : RINKU SADH\n",
        "\n",
        "ROLL NUMBER : D24CSA005"
      ],
      "metadata": {
        "id": "A8HOjIIW21Zj"
      }
    },
    {
      "cell_type": "markdown",
      "source": [
        "## MLOps Assignment 1"
      ],
      "metadata": {
        "id": "LlIGlcIiywyq"
      }
    },
    {
      "cell_type": "markdown",
      "source": [
        "Q1. Print multiplication table from 1 to 10"
      ],
      "metadata": {
        "id": "i3GplYoCqa89"
      }
    },
    {
      "cell_type": "code",
      "source": [
        "x = int(input(\"ENTER A NUMBER\"))\n",
        "for i in range(1,11):\n",
        "  print(f\"{x}*{i}={x*i}\")"
      ],
      "metadata": {
        "id": "Vfm5RBY0qbIs",
        "outputId": "076f24af-04fe-4948-8c03-069e338650c2",
        "colab": {
          "base_uri": "https://localhost:8080/"
        }
      },
      "execution_count": null,
      "outputs": [
        {
          "output_type": "stream",
          "name": "stdout",
          "text": [
            "ENTER A NUMBER2\n",
            "2*1=2\n",
            "2*2=4\n",
            "2*3=6\n",
            "2*4=8\n",
            "2*5=10\n",
            "2*6=12\n",
            "2*7=14\n",
            "2*8=16\n",
            "2*9=18\n",
            "2*10=20\n"
          ]
        }
      ]
    },
    {
      "cell_type": "markdown",
      "source": [
        "Q2. Given two lists, l1 and l2, write a program to create a third list l3 by picking an odd-index element from the list l1 and even index elements from the list l2."
      ],
      "metadata": {
        "id": "kCxjfhGtiMFb"
      }
    },
    {
      "cell_type": "code",
      "source": [
        "\n",
        "l1=[2,4,3,2,5]\n",
        "l2=[9,56,8,0,4]\n",
        "l3=[i for i in l1[1:len(l1):2]]\n",
        "\n",
        "for i in l2[0:len(l2):2]:\n",
        "  l3.append(i)\n",
        "#l3.append(l1[1:len(l1):2])\n",
        "#l3.append(l2[0:len(l2):2])\n",
        "print(l3)"
      ],
      "metadata": {
        "id": "r1lkQPN8iNSc",
        "outputId": "09b497c7-8e06-43ce-f62a-d5cd797ba3d0",
        "colab": {
          "base_uri": "https://localhost:8080/"
        }
      },
      "execution_count": null,
      "outputs": [
        {
          "output_type": "stream",
          "name": "stdout",
          "text": [
            "[4, 2, 9, 8, 4]\n"
          ]
        }
      ]
    },
    {
      "cell_type": "markdown",
      "source": [
        "Q3. Print a this pattern(*)\n",
        "\n",
        "    * * * * * * * *\n",
        "      * * * * * * *\n",
        "        * * * * * *\n",
        "          * * * * *\n",
        "            * * * *\n",
        "              * * *\n",
        "                * *\n",
        "                  *"
      ],
      "metadata": {
        "id": "GBb0FgtIq4YA"
      }
    },
    {
      "cell_type": "code",
      "source": [
        "for i in range(8):\n",
        "  for j in range(i):\n",
        "    print(\" \",end=\" \")\n",
        "  for k in range(8-i):\n",
        "    print(\"*\",end=\" \")\n",
        "  print(\"\\n\")\n"
      ],
      "metadata": {
        "id": "rfbGzuA3rcGs",
        "outputId": "9a0f4843-b351-433b-fc67-562143b35fb1",
        "colab": {
          "base_uri": "https://localhost:8080/"
        }
      },
      "execution_count": null,
      "outputs": [
        {
          "output_type": "stream",
          "name": "stdout",
          "text": [
            "* * * * * * * * \n",
            "\n",
            "  * * * * * * * \n",
            "\n",
            "    * * * * * * \n",
            "\n",
            "      * * * * * \n",
            "\n",
            "        * * * * \n",
            "\n",
            "          * * * \n",
            "\n",
            "            * * \n",
            "\n",
            "              * \n",
            "\n"
          ]
        }
      ]
    },
    {
      "cell_type": "markdown",
      "source": [
        "Q4. Create a function named `exponent(base, exp)` that returns an integer representing the result of raising `base` to the power of `exp`.\n",
        "`exp` is >0.\n",
        "\n",
        "base = 5\n",
        "exponent = 4\n",
        "\n",
        "5 raises to the power of 4 is: 625\n",
        "i.e. (5 *5 * 5 *5 = 625)"
      ],
      "metadata": {
        "id": "WIblh-z6s9me"
      }
    },
    {
      "cell_type": "code",
      "source": [
        "def exponent(base, exp):\n",
        "  x=1\n",
        "  for i in range(exp):\n",
        "    x=x*base\n",
        "  return x\n",
        "\n",
        "x=int(input(\"ENTER THE BASE \"))\n",
        "Y=int(input(\"ENTER THE EXPONENT\"))\n",
        "print(exponent(x, Y))\n",
        "\n",
        "\n",
        "\n",
        "\n"
      ],
      "metadata": {
        "id": "6-KKDQNWs8eQ",
        "colab": {
          "base_uri": "https://localhost:8080/"
        },
        "outputId": "8ab54972-88fe-4ab6-a94b-97da65f92333"
      },
      "execution_count": null,
      "outputs": [
        {
          "output_type": "stream",
          "name": "stdout",
          "text": [
            "ENTER THE BASE 5\n",
            "ENTER THE EXPONENT4\n",
            "625\n"
          ]
        }
      ]
    },
    {
      "cell_type": "markdown",
      "source": [
        "Q5. Create a file named test.txt and insert the following content into it.\n",
        "\n",
        "    line1\n",
        "    line2\n",
        "    line3\n",
        "    line4\n",
        "    line5\n",
        "    line6\n",
        "    line7\n",
        "\n",
        "Write a program which write all content of a given file (test.txt) into a new file by skipping line number 5 (line5)"
      ],
      "metadata": {
        "id": "_QUrD8h6t6PN"
      }
    },
    {
      "cell_type": "code",
      "source": [
        "with open(\"test.txt\",\"w\") as file:\n",
        "  for i in range(1,8):\n",
        "    file.write(f\"line{i}\\n\")\n",
        "with open(\"test.txt\",\"r\") as file:\n",
        "  content=file.readlines()\n",
        "  with open(\"test2.txt\",\"w\") as file2:\n",
        "    for i in range(len(content)):\n",
        "      if i!=4:\n",
        "        file2.write(content[i])\n",
        "  with open(\"test2.txt\",\"r\") as file2:\n",
        "    print(file2.readlines())\n",
        "\n",
        "  print(content)"
      ],
      "metadata": {
        "id": "I2KF1QHKrq-s",
        "colab": {
          "base_uri": "https://localhost:8080/"
        },
        "outputId": "9d8ced65-43cc-4f62-891c-fd2a7d46ec62"
      },
      "execution_count": 1,
      "outputs": [
        {
          "output_type": "stream",
          "name": "stdout",
          "text": [
            "['line1\\n', 'line2\\n', 'line3\\n', 'line4\\n', 'line6\\n', 'line7\\n']\n",
            "['line1\\n', 'line2\\n', 'line3\\n', 'line4\\n', 'line5\\n', 'line6\\n', 'line7\\n']\n"
          ]
        }
      ]
    },
    {
      "cell_type": "markdown",
      "source": [
        "Q6. Write a program which receives three names from the user in a single input() function call.\n",
        "\n",
        "    Input: IIT JODHPUR RAJASTHAN\n",
        "\n",
        "    Output:\n",
        "    IIT\n",
        "    JODHPUR\n",
        "    RAJASTHAN"
      ],
      "metadata": {
        "id": "6cdAt0ONvMVI"
      }
    },
    {
      "cell_type": "code",
      "source": [
        "x=input(\"ENTER THREE NAMES\")\n",
        "x=x.split(\" \")\n",
        "for i in x:\n",
        "  print(i)\n"
      ],
      "metadata": {
        "id": "Mo0wyeB6vJJm",
        "colab": {
          "base_uri": "https://localhost:8080/"
        },
        "outputId": "f415f9ba-be7f-494c-e712-bc700603bdd8"
      },
      "execution_count": 5,
      "outputs": [
        {
          "output_type": "stream",
          "name": "stdout",
          "text": [
            "ENTER THREE NAMESIIT JODHPUR RAJASTHAN\n",
            "IIT\n",
            "JODHPUR\n",
            "RAJASTHAN\n"
          ]
        }
      ]
    },
    {
      "cell_type": "markdown",
      "source": [
        "Q7. Write a program to define a function called show_employee() with the following requirements:\n",
        "\n",
        "*   It should take the employee's name and salary as input and display both.\n",
        "*   If the salary is not provided in the function call, assign a default value of 9000 to it.\n",
        "\n",
        "After passing:\n",
        "\n",
        "showEmployee(\"Bill Gates\", 12000)\n",
        "\n",
        "showEmployee(\"Elon Musk\")\n",
        "\n",
        "It should print:\n",
        "\n",
        "Name: Bill Gates salary: 12000\n",
        "\n",
        "Name: Elon Musk salary: 9000"
      ],
      "metadata": {
        "id": "jwSKpPcYv_De"
      }
    },
    {
      "cell_type": "code",
      "source": [
        "def show_employee(name,salary=9000):\n",
        "   print(f\"Name: {name} salary: {salary}\")\n",
        "\n",
        "\n",
        "show_employee(\"Bill Gates\", 12000)\n",
        "show_employee(\"Elon Musk\")"
      ],
      "metadata": {
        "id": "yyzhkF1Lv94j",
        "colab": {
          "base_uri": "https://localhost:8080/"
        },
        "outputId": "d8c5d4c2-3f3a-4b51-a994-589e65761443"
      },
      "execution_count": 2,
      "outputs": [
        {
          "output_type": "stream",
          "name": "stdout",
          "text": [
            "Name: Bill Gates salary: 12000\n",
            "Name: Elon Musk salary: 9000\n"
          ]
        }
      ]
    },
    {
      "cell_type": "markdown",
      "source": [
        "Q8. Write a program to identify words that contain both letters and digits from a given input string.\n",
        "\n",
        "    Given str1 = \"Harry25 is Gryffindor Wizard50 and cursed\"\n",
        "\n",
        "    Output:\n",
        "    Harry25\n",
        "    Wizard50"
      ],
      "metadata": {
        "id": "BAtCQH3pxXWV"
      }
    },
    {
      "cell_type": "code",
      "source": [
        "sentence = input(\"ENTER THE SENTENCE that contain both letters and digits\")\n",
        "words = sentence.split(\" \")\n",
        "for word in words:\n",
        "  if any(char.isdigit() for char in word) and any(char.isalpha() for char in word):\n",
        "    print(word)"
      ],
      "metadata": {
        "id": "bqbyxYdqvJHY",
        "colab": {
          "base_uri": "https://localhost:8080/"
        },
        "outputId": "efc5fce9-dd9c-4d46-d2f5-c2da2c7b29ff"
      },
      "execution_count": 3,
      "outputs": [
        {
          "output_type": "stream",
          "name": "stdout",
          "text": [
            "ENTER THE SENTENCE that contain both letters and digitsHarry25 is Gryffindor Wizard50 and cursed\n",
            "Harry25\n",
            "Wizard50\n"
          ]
        }
      ]
    },
    {
      "cell_type": "markdown",
      "source": [
        "Q9. Write a program to substitute each special character in the given string with the symbol #.\n",
        "\n",
        "    Given: str1 = '/*Modi is @Politician & Melony!!'\n",
        "\n",
        "    Output: ##Modi is #Politician # Melony##"
      ],
      "metadata": {
        "id": "Ev6TIw7oyGzJ"
      }
    },
    {
      "cell_type": "code",
      "source": [
        "str1=input(\"ENTER A SENTENCEE \")\n",
        "\n",
        "words=str1.split(\" \")\n",
        "\n",
        "for word in words:\n",
        "  for char in word:\n",
        "    if not char.isalnum():\n",
        "      word=word.replace(char,\"#\")\n",
        "\n",
        "  print(word,end=\" \")"
      ],
      "metadata": {
        "id": "Hbg92hJtvJE7",
        "colab": {
          "base_uri": "https://localhost:8080/"
        },
        "outputId": "0d83428f-f086-4576-cb15-97f43cc199bf"
      },
      "execution_count": 5,
      "outputs": [
        {
          "output_type": "stream",
          "name": "stdout",
          "text": [
            "ENTER A SENTENCEE /*Modi is @Politician & Melony!!\n",
            "##Modi is #Politician # Melony## "
          ]
        }
      ]
    },
    {
      "cell_type": "markdown",
      "source": [
        "Q10. Construct a Python set that displays elements from both lists as pairs.\n",
        "\n",
        "    Given:\n",
        "\n",
        "    first_list = [2, 3, 4, 5, 6, 7, 8]\n",
        "    second_list = [4, 9, 16, 25, 36, 49, 64]\n",
        "    Output: Result is  {(6, 36), (8, 64), (4, 16), (5, 25), (3, 9), (7, 49), (2, 4)}"
      ],
      "metadata": {
        "id": "L9zg8k_XyoMz"
      }
    },
    {
      "cell_type": "code",
      "source": [
        "first_list = [2, 3, 4, 5, 6, 7, 8]\n",
        "second_list = [4, 9, 16, 25, 36, 49, 64]\n",
        "final_output=set((first_list[i],second_list[i]) for i in range(len(first_list)))\n",
        "print(final_output)"
      ],
      "metadata": {
        "id": "aSBw6V0OvJCS",
        "colab": {
          "base_uri": "https://localhost:8080/"
        },
        "outputId": "6e463923-78fe-42be-a504-b00500bb2b24"
      },
      "execution_count": 7,
      "outputs": [
        {
          "output_type": "stream",
          "name": "stdout",
          "text": [
            "{(7, 49), (2, 4), (4, 16), (8, 64), (6, 36), (3, 9), (5, 25)}\n"
          ]
        }
      ]
    },
    {
      "cell_type": "markdown",
      "source": [
        "Q11. Define two set A and B consisting of 5 elements. Now print the element after performing\n",
        "\n",
        "\n",
        "      1.   A-B\n",
        "      2.   B-A\n",
        "      3.   A∩B\n",
        "      4.   A∪B\n",
        "\n",
        "\n"
      ],
      "metadata": {
        "id": "JHa0SMOozZo9"
      }
    },
    {
      "cell_type": "code",
      "source": [
        "set1={1,2,3,4,5}\n",
        "set2={3,5,6,7,9}\n",
        "print(set1-set2)\n",
        "print(set2-set1)\n",
        "print(set1.intersection(set2))\n",
        "print(set1.union(set2))"
      ],
      "metadata": {
        "id": "r9vL1bpHzZGg",
        "colab": {
          "base_uri": "https://localhost:8080/"
        },
        "outputId": "6cebd8d0-27c2-4e96-9488-4fb380fe2fb7"
      },
      "execution_count": 10,
      "outputs": [
        {
          "output_type": "stream",
          "name": "stdout",
          "text": [
            "{1, 2, 4}\n",
            "{9, 6, 7}\n",
            "{3, 5}\n",
            "{1, 2, 3, 4, 5, 6, 7, 9}\n"
          ]
        }
      ]
    },
    {
      "cell_type": "markdown",
      "source": [
        "## Object Oriented Programming Exercise 1:\n",
        "\n",
        "[Classes and Objects in Python](https://pynative.com/python-classes-and-objects/)\n",
        "\n",
        "[Instance variables in Python](https://pynative.com/python-instance-variables/)"
      ],
      "metadata": {
        "id": "UFjTtL_i00dz"
      }
    },
    {
      "cell_type": "markdown",
      "source": [
        "Q12. Create a Vehicle class with max_speed and mileage instance attributes."
      ],
      "metadata": {
        "id": "-PQELvq41z5B"
      }
    },
    {
      "cell_type": "code",
      "source": [
        "class Vehicle:\n",
        "  def __init__(self,max_speed,mileage):\n",
        "    self.max_speed=max_speed\n",
        "    self.mileage=mileage\n",
        "car=Vehicle(240,18)\n",
        "print(car.max_speed,car.mileage)"
      ],
      "metadata": {
        "id": "Wa16l5-C0z3Z",
        "colab": {
          "base_uri": "https://localhost:8080/"
        },
        "outputId": "31d34a1d-3de2-4144-a468-37b5cc688b64"
      },
      "execution_count": 9,
      "outputs": [
        {
          "output_type": "stream",
          "name": "stdout",
          "text": [
            "240 18\n"
          ]
        }
      ]
    },
    {
      "cell_type": "markdown",
      "source": [
        "Q13. Create a child class Bus that will inherit all of the variables and methods of the Vehicle class.\n",
        "\n",
        "Create a Bus object that will inherit all of the variables and methods of the parent Vehicle class and display it."
      ],
      "metadata": {
        "id": "-Japqg35177L"
      }
    },
    {
      "cell_type": "code",
      "source": [
        "class Bus(Vehicle):\n",
        "  pass\n",
        "if __name__==\"__main__\":\n",
        "  bus=Bus(240,18)\n",
        "  print(bus.max_speed,bus.mileage)"
      ],
      "metadata": {
        "id": "nUvpX3qR2Upg",
        "colab": {
          "base_uri": "https://localhost:8080/"
        },
        "outputId": "b0b8ea53-dfcf-4a09-aaf4-fe5f98090afc"
      },
      "execution_count": 11,
      "outputs": [
        {
          "output_type": "stream",
          "name": "stdout",
          "text": [
            "240 18\n"
          ]
        }
      ]
    },
    {
      "cell_type": "markdown",
      "source": [
        "### Class Inheritance\n",
        "\n",
        "Q14. Create a Bus class that inherits from the Vehicle class. Give the capacity argument of Bus.seating_capacity() a default value of 50.\n",
        "\n",
        "Use the following code for your parent Vehicle class.\n",
        "\n",
        "    class Vehicle:\n",
        "      def __init__(self, name, max_speed, mileage):\n",
        "          self.name = name\n",
        "          self.max_speed = max_speed\n",
        "          self.mileage = mileage\n",
        "\n",
        "      def seating_capacity(self, capacity):\n",
        "          return f\"The seating capacity of a {self.name} is {capacity} passengers\"\n",
        "\n",
        "Expected Output:\n",
        "\n",
        "    The seating capacity of a bus is 50 passengers"
      ],
      "metadata": {
        "id": "fPFfg2Hh2VBe"
      }
    },
    {
      "cell_type": "code",
      "source": [
        "class Vehicle:\n",
        "  def __init__(self, name, max_speed, mileage):\n",
        "      self.name = name\n",
        "      self.max_speed = max_speed\n",
        "      self.mileage = mileage\n",
        "\n",
        "  def seating_capacity(self, capacity=50):\n",
        "      return f\"The seating capacity of a {self.name} is {capacity} passengers\"\n",
        "\n",
        "class Bus(Vehicle):\n",
        "  pass\n",
        "\n",
        "if __name__==\"__main__\":\n",
        "  bus=Bus(\"Bus\",240,18)\n",
        "  print(bus.seating_capacity())\n",
        ""
      ],
      "metadata": {
        "id": "TKalMy1B2_Ix",
        "colab": {
          "base_uri": "https://localhost:8080/"
        },
        "outputId": "a3c1c590-b1a3-4c70-f322-d6ff2f66a8a0"
      },
      "execution_count": 16,
      "outputs": [
        {
          "output_type": "stream",
          "name": "stdout",
          "text": [
            "The seating capacity of a Bus is 50 passengers\n"
          ]
        }
      ]
    },
    {
      "cell_type": "markdown",
      "source": [
        "Q15. Create a Bus subclass that inherits from the Vehicle class. By default, the fare for any vehicle is calculated as the seating capacity multiplied by 100. For instances of the Bus class, an additional 10% maintenance fee should be applied to the total fare. Therefore, the final fare for a bus instance will be the sum of the total fare plus an additional 10% of that total fare.\n",
        "\n",
        "Note: The bus has a seating capacity of 50, so the final fare amount should be 5500. You need to override the fare() method from the Vehicle class in the Bus class.\n",
        "\n",
        "Use the provided code for the parent Vehicle class. You should access the parent class within a method of the child class.\n",
        "\n",
        "    class Vehicle:\n",
        "      def __init__(self, name, mileage, capacity):\n",
        "        self.name = name\n",
        "        self.mileage = mileage\n",
        "        self.capacity = capacity\n",
        "\n",
        "      def fare(self):\n",
        "        return self.capacity * 100\n",
        "\n",
        "    class Bus(Vehicle):\n",
        "        pass\n",
        "        School_bus = Bus(\"School Volvo\", 12, 50)\n",
        "        print(\"Total Bus fare is:\", School_bus.fare())\n",
        "\n",
        "    Expected Output:\n",
        "\n",
        "    Total Bus fare is: 5500.0"
      ],
      "metadata": {
        "id": "kenJ766m2_jc"
      }
    },
    {
      "cell_type": "code",
      "source": [
        "class Vehicle:\n",
        "  def __init__(self, name, mileage, capacity):\n",
        "    self.name = name\n",
        "    self.mileage = mileage\n",
        "    self.capacity = capacity\n",
        "\n",
        "  def fare(self):\n",
        "    return self.capacity * 100\n",
        "\n",
        "class Bus(Vehicle):\n",
        "    pass\n",
        "    def fare(self):\n",
        "      return super().fare()+0.1*super().fare()\n",
        "\n",
        "if __name__==\"__main__\":\n",
        "    School_bus = Bus(\"School Volvo\", 12, 50)\n",
        "    print(\"Total Bus fare is:\", School_bus.fare())"
      ],
      "metadata": {
        "id": "jY3Z5SsY_iaQ",
        "colab": {
          "base_uri": "https://localhost:8080/"
        },
        "outputId": "35e8d682-32e4-4053-ecf6-b5fed8e32202"
      },
      "execution_count": 17,
      "outputs": [
        {
          "output_type": "stream",
          "name": "stdout",
          "text": [
            "Total Bus fare is: 5500.0\n"
          ]
        }
      ]
    },
    {
      "cell_type": "markdown",
      "source": [
        "### Python JSON Exercise\n",
        "Refer: [Python JSON tutorials](https://pynative.com/python/json/)"
      ],
      "metadata": {
        "id": "3wMvLEkk_nWE"
      }
    },
    {
      "cell_type": "markdown",
      "source": [
        "Q16. Convert the following dictionary into JSON format\n",
        "\n",
        "    data = {\"key1\" : \"value1\", \"key2\" : \"value2\"}\n",
        "    data = {\"key1\" : \"value1\", \"key2\" : \"value2\"}"
      ],
      "metadata": {
        "id": "zVIiuI0PAcuT"
      }
    },
    {
      "cell_type": "code",
      "source": [
        "data = {\"key1\" : \"value1\", \"key2\" : \"value2\"}\n",
        "import json\n",
        "print(json.dumps(data))"
      ],
      "metadata": {
        "id": "Z5M47OYS_mhA",
        "colab": {
          "base_uri": "https://localhost:8080/"
        },
        "outputId": "e7e7da8b-87a6-4d4e-f65b-2d7d86e76b17"
      },
      "execution_count": 12,
      "outputs": [
        {
          "output_type": "stream",
          "name": "stdout",
          "text": [
            "{\"key1\": \"value1\", \"key2\": \"value2\"}\n"
          ]
        }
      ]
    },
    {
      "cell_type": "markdown",
      "source": [
        "Q17. Sort JSON keys in and write them into a file\n",
        "\n",
        "    sampleJson = {\"id\" : 1, \"name\" : \"value2\", \"age\" : 29}\n",
        "\n",
        "    {\n",
        "          \"age\": 29,\n",
        "          \"id\": 1,\n",
        "          \"name\": \"value2\"\n",
        "    }"
      ],
      "metadata": {
        "id": "8eE35QccA_X-"
      }
    },
    {
      "cell_type": "code",
      "source": [
        "import json\n",
        "sampleJson = {\"id\" : 1, \"name\" : \"value2\", \"age\" : 29}\n",
        "sorted=json.dumps(sampleJson,sort_keys=True)\n",
        "with open(\"sampleJson.json\",\"w\") as file:\n",
        "  file.write(sorted)\n",
        "\n",
        "data=json.loads(sorted)\n",
        "print(data)\n"
      ],
      "metadata": {
        "id": "jLG5tk_X_j5O",
        "colab": {
          "base_uri": "https://localhost:8080/"
        },
        "outputId": "85a5ee74-2190-448a-ea50-7dd297bad9fc"
      },
      "execution_count": 14,
      "outputs": [
        {
          "output_type": "stream",
          "name": "stdout",
          "text": [
            "{'age': 29, 'id': 1, 'name': 'value2'}\n"
          ]
        }
      ]
    }
  ]
}